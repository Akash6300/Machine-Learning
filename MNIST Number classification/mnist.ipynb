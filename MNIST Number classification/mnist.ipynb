{
  "cells": [
    {
      "cell_type": "code",
      "execution_count": 3,
      "metadata": {
        "id": "cxSPageilSGa"
      },
      "outputs": [],
      "source": [
        "import numpy as np\n",
        "import tensorflow as tf\n",
        "import matplotlib.pyplot as plt\n",
        "from PIL import Image\n",
        "from tensorflow.keras.layers import Dense\n",
        "from tensorflow.keras import Sequential\n",
        "from google.colab.patches import cv2_imshow\n",
        "from sklearn.model_selection import train_test_split\n",
        "from sklearn.metrics import accuracy_score,precision_score,recall_score\n",
        "from tensorflow.keras import layers\n",
        "# from tensorflow.keras.utils import to_categorical"
      ]
    },
    {
      "cell_type": "code",
      "execution_count": 1,
      "metadata": {
        "id": "5jBmr_9TM7Fr"
      },
      "outputs": [],
      "source": [
        "def sigmoid(x):\n",
        "  fx=np.exp(x)\n",
        "  sum=np.sum(fx,axis=1,keepdims=True)\n",
        "  sig=fx/sum\n",
        "  return sig"
      ]
    },
    {
      "cell_type": "code",
      "execution_count": 16,
      "metadata": {
        "id": "1mbwN3JWq4dZ"
      },
      "outputs": [],
      "source": [
        "(x_train, y_train), (x_test, y_test) = tf.keras.datasets.mnist.load_data()\n"
      ]
    },
    {
      "cell_type": "code",
      "source": [
        "print(x_test.shape)"
      ],
      "metadata": {
        "colab": {
          "base_uri": "https://localhost:8080/"
        },
        "id": "x8DkDJ2KWiVo",
        "outputId": "32da5d83-3621-441d-fe46-604dbaa032e6"
      },
      "execution_count": 18,
      "outputs": [
        {
          "output_type": "stream",
          "name": "stdout",
          "text": [
            "(10000, 28, 28)\n"
          ]
        }
      ]
    },
    {
      "cell_type": "code",
      "execution_count": 19,
      "metadata": {
        "id": "hKKYMrALDXVK"
      },
      "outputs": [],
      "source": [
        "x_valid,x_test,y_valid,y_test=train_test_split(x_test,y_test,test_size=0.5,random_state=20)"
      ]
    },
    {
      "cell_type": "code",
      "execution_count": 22,
      "metadata": {
        "id": "LsOUgvaGRWZG"
      },
      "outputs": [],
      "source": [
        "x_train_f=x_train.reshape(x_train.shape[0],-1)\n",
        "x_test_f=x_test.reshape(x_test.shape[0],-1)\n",
        "x_valid_f=x_valid.reshape(x_valid.shape[0],-1)"
      ]
    },
    {
      "cell_type": "code",
      "execution_count": 23,
      "metadata": {
        "colab": {
          "base_uri": "https://localhost:8080/"
        },
        "id": "Sn7ei_2zRcfj",
        "outputId": "7718919e-5aac-4142-e269-057d328f1cb2"
      },
      "outputs": [
        {
          "output_type": "stream",
          "name": "stdout",
          "text": [
            "(60000, 784)\n",
            "(60000,)\n"
          ]
        }
      ],
      "source": [
        "print(x_train_f.shape)\n",
        "print(y_train.shape)"
      ]
    },
    {
      "cell_type": "code",
      "execution_count": 24,
      "metadata": {
        "colab": {
          "base_uri": "https://localhost:8080/",
          "height": 449
        },
        "id": "7nImj7drrFno",
        "outputId": "e592bfce-09e2-4262-f417-cc63db5b5c1c"
      },
      "outputs": [
        {
          "output_type": "display_data",
          "data": {
            "text/plain": [
              "<Figure size 500x500 with 9 Axes>"
            ],
            "image/png": "[encoded data removed]"
          },
          "metadata": {}
        }
      ],
      "source": [
        "\n",
        "images = x_train[np.random.randint(1, x_train.shape[0], size=9)]\n",
        "fig, ax = plt.subplots(3, 3, figsize=(5,5))\n",
        "\n",
        "for i in range(3):\n",
        "    for j in range(3):\n",
        "        ax[i, j].imshow(images[i * 3 + j], cmap='gray')\n",
        "plt.show()\n"
      ]
    },
    {
      "cell_type": "code",
      "execution_count": 25,
      "metadata": {
        "id": "1_RH1VJezdlJ"
      },
      "outputs": [],
      "source": [
        "model=Sequential(\n",
        "    [\n",
        "        tf.keras.layers.Input(shape=(28*28,)),\n",
        "        Dense(25,activation='relu'),\n",
        "        Dense(15,activation='relu'),\n",
        "        Dense(10,activation='linear')\n",
        "    ]\n",
        ")"
      ]
    },
    {
      "cell_type": "code",
      "execution_count": 26,
      "metadata": {
        "id": "ul6CRT1u2XLJ"
      },
      "outputs": [],
      "source": [
        "model.build()"
      ]
    },
    {
      "cell_type": "code",
      "execution_count": 27,
      "metadata": {
        "id": "z8H20DUb5hBn"
      },
      "outputs": [],
      "source": [
        "from keras.src.engine.training import optimizer\n",
        "model.compile(\n",
        "    loss=tf.keras.losses.SparseCategoricalCrossentropy(from_logits=True),\n",
        "    optimizer=tf.keras.optimizers.Adam(1e-03),\n",
        "    metrics=['accuracy']\n",
        ")"
      ]
    },
    {
      "cell_type": "code",
      "execution_count": 15,
      "metadata": {
        "colab": {
          "base_uri": "https://localhost:8080/"
        },
        "id": "pmVEENcaMfUP",
        "outputId": "f04a9287-1797-4b9d-ff59-241e414a947d"
      },
      "outputs": [
        {
          "output_type": "stream",
          "name": "stdout",
          "text": [
            "(60000, 784)\n",
            "(60000,)\n"
          ]
        }
      ],
      "source": [
        "print(x_train_f.shape)\n",
        "print(y_train.shape)"
      ]
    },
    {
      "cell_type": "code",
      "execution_count": 31,
      "metadata": {
        "colab": {
          "base_uri": "https://localhost:8080/"
        },
        "id": "7Lq09ftI6SLr",
        "outputId": "5987290c-ff8e-44c0-a6ae-b4a48f2a1290"
      },
      "outputs": [
        {
          "output_type": "stream",
          "name": "stdout",
          "text": [
            "Epoch 1/20\n",
            "1875/1875 - 8s - loss: 0.1334 - accuracy: 0.9622 - val_loss: 0.2192 - val_accuracy: 0.9444 - 8s/epoch - 4ms/step\n",
            "Epoch 2/20\n",
            "1875/1875 - 4s - loss: 0.1303 - accuracy: 0.9622 - val_loss: 0.1993 - val_accuracy: 0.9510 - 4s/epoch - 2ms/step\n",
            "Epoch 3/20\n",
            "1875/1875 - 5s - loss: 0.1320 - accuracy: 0.9625 - val_loss: 0.2189 - val_accuracy: 0.9464 - 5s/epoch - 2ms/step\n",
            "Epoch 4/20\n",
            "1875/1875 - 6s - loss: 0.1283 - accuracy: 0.9628 - val_loss: 0.2170 - val_accuracy: 0.9498 - 6s/epoch - 3ms/step\n",
            "Epoch 5/20\n",
            "1875/1875 - 4s - loss: 0.1315 - accuracy: 0.9635 - val_loss: 0.2255 - val_accuracy: 0.9430 - 4s/epoch - 2ms/step\n",
            "Epoch 6/20\n",
            "1875/1875 - 4s - loss: 0.1242 - accuracy: 0.9639 - val_loss: 0.2268 - val_accuracy: 0.9466 - 4s/epoch - 2ms/step\n",
            "Epoch 7/20\n",
            "1875/1875 - 6s - loss: 0.1242 - accuracy: 0.9643 - val_loss: 0.2160 - val_accuracy: 0.9470 - 6s/epoch - 3ms/step\n",
            "Epoch 8/20\n",
            "1875/1875 - 4s - loss: 0.1225 - accuracy: 0.9643 - val_loss: 0.2356 - val_accuracy: 0.9482 - 4s/epoch - 2ms/step\n",
            "Epoch 9/20\n",
            "1875/1875 - 4s - loss: 0.1209 - accuracy: 0.9655 - val_loss: 0.2163 - val_accuracy: 0.9474 - 4s/epoch - 2ms/step\n",
            "Epoch 10/20\n",
            "1875/1875 - 5s - loss: 0.1213 - accuracy: 0.9657 - val_loss: 0.2391 - val_accuracy: 0.9392 - 5s/epoch - 3ms/step\n",
            "Epoch 11/20\n",
            "1875/1875 - 4s - loss: 0.1181 - accuracy: 0.9664 - val_loss: 0.2309 - val_accuracy: 0.9498 - 4s/epoch - 2ms/step\n",
            "Epoch 12/20\n",
            "1875/1875 - 4s - loss: 0.1141 - accuracy: 0.9675 - val_loss: 0.2528 - val_accuracy: 0.9452 - 4s/epoch - 2ms/step\n",
            "Epoch 13/20\n",
            "1875/1875 - 5s - loss: 0.1176 - accuracy: 0.9660 - val_loss: 0.2263 - val_accuracy: 0.9478 - 5s/epoch - 3ms/step\n",
            "Epoch 14/20\n",
            "1875/1875 - 5s - loss: 0.1140 - accuracy: 0.9675 - val_loss: 0.2283 - val_accuracy: 0.9514 - 5s/epoch - 2ms/step\n",
            "Epoch 15/20\n",
            "1875/1875 - 4s - loss: 0.1132 - accuracy: 0.9678 - val_loss: 0.2294 - val_accuracy: 0.9544 - 4s/epoch - 2ms/step\n",
            "Epoch 16/20\n",
            "1875/1875 - 6s - loss: 0.1155 - accuracy: 0.9670 - val_loss: 0.2394 - val_accuracy: 0.9486 - 6s/epoch - 3ms/step\n",
            "Epoch 17/20\n",
            "1875/1875 - 4s - loss: 0.1148 - accuracy: 0.9674 - val_loss: 0.2423 - val_accuracy: 0.9474 - 4s/epoch - 2ms/step\n",
            "Epoch 18/20\n",
            "1875/1875 - 4s - loss: 0.1109 - accuracy: 0.9688 - val_loss: 0.2436 - val_accuracy: 0.9500 - 4s/epoch - 2ms/step\n",
            "Epoch 19/20\n",
            "1875/1875 - 5s - loss: 0.1129 - accuracy: 0.9679 - val_loss: 0.2203 - val_accuracy: 0.9510 - 5s/epoch - 2ms/step\n",
            "Epoch 20/20\n",
            "1875/1875 - 5s - loss: 0.1096 - accuracy: 0.9686 - val_loss: 0.2391 - val_accuracy: 0.9488 - 5s/epoch - 3ms/step\n"
          ]
        }
      ],
      "source": [
        "history=model.fit(\n",
        "    x_train_f,y_train,\n",
        "    epochs=20,\n",
        "    validation_data=(x_valid_f,y_valid),\n",
        "    verbose=2,\n",
        "    shuffle=True,\n",
        "    use_multiprocessing=True)"
      ]
    },
    {
      "cell_type": "code",
      "execution_count": 32,
      "metadata": {
        "colab": {
          "base_uri": "https://localhost:8080/"
        },
        "id": "aC98EuoaJ2u_",
        "outputId": "38aa35f4-1aac-4011-b10c-dceaff671971"
      },
      "outputs": [
        {
          "output_type": "stream",
          "name": "stdout",
          "text": [
            "157/157 [==============================] - 0s 2ms/step\n"
          ]
        }
      ],
      "source": [
        "y_test_pred=model.predict(x_test_f)"
      ]
    },
    {
      "cell_type": "code",
      "execution_count": 35,
      "metadata": {
        "id": "wQuvogyfYU2O"
      },
      "outputs": [],
      "source": [
        "pred=tf.nn.softmax(y_test_pred)"
      ]
    },
    {
      "cell_type": "code",
      "execution_count": 39,
      "metadata": {
        "id": "y0kiTnc-d9WE"
      },
      "outputs": [],
      "source": [
        "pred=np.asarray(pred)"
      ]
    },
    {
      "cell_type": "code",
      "source": [
        "pred.shape"
      ],
      "metadata": {
        "colab": {
          "base_uri": "https://localhost:8080/"
        },
        "id": "Pt4sbAXZeIu7",
        "outputId": "8a92033b-7dd4-42ad-9914-132943f880dc"
      },
      "execution_count": 41,
      "outputs": [
        {
          "output_type": "execute_result",
          "data": {
            "text/plain": [
              "(5000, 10)"
            ]
          },
          "metadata": {},
          "execution_count": 41
        }
      ]
    },
    {
      "cell_type": "code",
      "execution_count": 37,
      "metadata": {
        "id": "I0lqrMhsS9bN"
      },
      "outputs": [],
      "source": [
        "predicted=np.argmax(pred,axis=1)"
      ]
    },
    {
      "cell_type": "code",
      "execution_count": 42,
      "metadata": {
        "colab": {
          "base_uri": "https://localhost:8080/"
        },
        "id": "N4XUCiw_TXZM",
        "outputId": "57ce72a7-0b1f-475e-8d21-6479235035dd"
      },
      "outputs": [
        {
          "output_type": "execute_result",
          "data": {
            "text/plain": [
              "0.9494"
            ]
          },
          "metadata": {},
          "execution_count": 42
        }
      ],
      "source": [
        "accuracy_score(y_test,predicted)"
      ]
    },
    {
      "cell_type": "code",
      "execution_count": 43,
      "metadata": {
        "colab": {
          "base_uri": "https://localhost:8080/"
        },
        "id": "S8VOV18jf1z3",
        "outputId": "f8fba83c-9425-463f-f591-c9b86fc96662"
      },
      "outputs": [
        {
          "output_type": "execute_result",
          "data": {
            "text/plain": [
              "0.9502263332608454"
            ]
          },
          "metadata": {},
          "execution_count": 43
        }
      ],
      "source": [
        "precision_score(y_test,predicted,average='weighted')"
      ]
    },
    {
      "cell_type": "code",
      "execution_count": null,
      "metadata": {
        "id": "Kt66y-Hzh2oO"
      },
      "outputs": [],
      "source": []
    },
    {
      "cell_type": "code",
      "execution_count": 44,
      "metadata": {
        "id": "9HCswluph9Xj"
      },
      "outputs": [],
      "source": [
        "indices=(y_test!=predicted)*1\n",
        "y=y_test[y_test!=predicted]\n",
        "y_p=predicted[y_test!=predicted]\n",
        "wrongs=x_test[y_test!=predicted]"
      ]
    },
    {
      "cell_type": "code",
      "source": [
        "wrongs.shape"
      ],
      "metadata": {
        "colab": {
          "base_uri": "https://localhost:8080/"
        },
        "id": "rz2cqFXAevrn",
        "outputId": "58ead4ee-0720-44b8-8b37-0b5e4e64a602"
      },
      "execution_count": 45,
      "outputs": [
        {
          "output_type": "execute_result",
          "data": {
            "text/plain": [
              "(253, 28, 28)"
            ]
          },
          "metadata": {},
          "execution_count": 45
        }
      ]
    },
    {
      "cell_type": "code",
      "execution_count": 51,
      "metadata": {
        "colab": {
          "base_uri": "https://localhost:8080/",
          "height": 428
        },
        "id": "tIioZW9Bipr4",
        "outputId": "0d4c4956-0f26-430d-f468-f77fd7675447"
      },
      "outputs": [
        {
          "output_type": "display_data",
          "data": {
            "text/plain": [
              "<Figure size 640x480 with 1 Axes>"
            ],
            "image/png": "[encoded data removed]"
          },
          "metadata": {}
        }
      ],
      "source": [
        "index=np.random.randint(0,wrongs.shape[0])\n",
        "plt.imshow(wrongs[index],cmap='gray')\n",
        "plt.axis('off')\n",
        "plt.title(f'true={y[index]},predicted={y_p[index]}')\n",
        "plt.show()"
      ]
    },
    {
      "cell_type": "code",
      "execution_count": 52,
      "metadata": {
        "colab": {
          "base_uri": "https://localhost:8080/",
          "height": 444
        },
        "id": "ow0B2xkqivaf",
        "outputId": "0f2d2bba-4f6d-42e8-bdc0-5e1d62278ddf"
      },
      "outputs": [
        {
          "output_type": "display_data",
          "data": {
            "text/plain": [
              "<Figure size 500x500 with 9 Axes>"
            ],
            "image/png": "[encoded data removed]"
          },
          "metadata": {}
        }
      ],
      "source": [
        "indices=np.random.randint(0,wrongs.shape[0],size=9)\n",
        "fig,ax=plt.subplots(3,3,figsize=(5,5))\n",
        "for i in range(3):\n",
        "  for j in range(3):\n",
        "    index=indices[(i*3)+j]\n",
        "    ax[i][j].imshow(wrongs[index],cmap='gray')\n",
        "    ax[i][j].set_title(f'T={y[index]},P={y_p[index]}')\n",
        "    ax[i][j].axis('off')\n",
        "plt.show()"
      ]
    },
    {
      "cell_type": "code",
      "execution_count": 53,
      "metadata": {
        "id": "xMVcDVue1Vw8"
      },
      "outputs": [],
      "source": [
        "cnn_model=Sequential(\n",
        "    [\n",
        "        layers.Conv2D(32,(3,3),padding='same',input_shape=(28,28,1)),\n",
        "        layers.MaxPool2D((2,2)),\n",
        "        layers.Conv2D(20,(3,3),activation='relu'),\n",
        "        layers.MaxPool2D((2,2)),\n",
        "        layers.Flatten(),\n",
        "        layers.Dense(25,activation='relu'),\n",
        "        layers.Dense(10,activation='softmax')\n",
        "    ]\n",
        ")\n",
        "cnn_model.compile(\n",
        "    optimizer=tf.keras.optimizers.Adam(1e-04),\n",
        "    loss=tf.keras.losses.SparseCategoricalCrossentropy(),\n",
        "    metrics=['accuracy']\n",
        ")"
      ]
    },
    {
      "cell_type": "code",
      "execution_count": 54,
      "metadata": {
        "colab": {
          "base_uri": "https://localhost:8080/"
        },
        "id": "P5YLXkwc3dG3",
        "outputId": "2b09fb56-5c85-49dd-fc82-684b7c0c88cb"
      },
      "outputs": [
        {
          "output_type": "stream",
          "name": "stdout",
          "text": [
            "Epoch 1/20\n",
            "1875/1875 [==============================] - 51s 27ms/step - loss: 2.2766 - accuracy: 0.2914 - val_loss: 1.4585 - val_accuracy: 0.4854\n",
            "Epoch 2/20\n",
            "1875/1875 [==============================] - 52s 27ms/step - loss: 1.1295 - accuracy: 0.6274 - val_loss: 0.9035 - val_accuracy: 0.7664\n",
            "Epoch 3/20\n",
            "1875/1875 [==============================] - 53s 29ms/step - loss: 0.7299 - accuracy: 0.8100 - val_loss: 0.5323 - val_accuracy: 0.9102\n",
            "Epoch 4/20\n",
            "1875/1875 [==============================] - 51s 27ms/step - loss: 0.4081 - accuracy: 0.9091 - val_loss: 0.2898 - val_accuracy: 0.9332\n",
            "Epoch 5/20\n",
            "1875/1875 [==============================] - 51s 27ms/step - loss: 0.2137 - accuracy: 0.9472 - val_loss: 0.1867 - val_accuracy: 0.9524\n",
            "Epoch 6/20\n",
            "1875/1875 [==============================] - 50s 27ms/step - loss: 0.1515 - accuracy: 0.9615 - val_loss: 0.1670 - val_accuracy: 0.9584\n",
            "Epoch 7/20\n",
            "1875/1875 [==============================] - 49s 26ms/step - loss: 0.1213 - accuracy: 0.9683 - val_loss: 0.1269 - val_accuracy: 0.9678\n",
            "Epoch 8/20\n",
            "1875/1875 [==============================] - 49s 26ms/step - loss: 0.0991 - accuracy: 0.9742 - val_loss: 0.1074 - val_accuracy: 0.9728\n",
            "Epoch 9/20\n",
            "1875/1875 [==============================] - 52s 28ms/step - loss: 0.0842 - accuracy: 0.9777 - val_loss: 0.1107 - val_accuracy: 0.9698\n",
            "Epoch 10/20\n",
            "1875/1875 [==============================] - 50s 27ms/step - loss: 0.0736 - accuracy: 0.9794 - val_loss: 0.0876 - val_accuracy: 0.9758\n",
            "Epoch 11/20\n",
            "1875/1875 [==============================] - 50s 26ms/step - loss: 0.0629 - accuracy: 0.9826 - val_loss: 0.0841 - val_accuracy: 0.9788\n",
            "Epoch 12/20\n",
            "1875/1875 [==============================] - 49s 26ms/step - loss: 0.0556 - accuracy: 0.9838 - val_loss: 0.0777 - val_accuracy: 0.9790\n",
            "Epoch 13/20\n",
            "1875/1875 [==============================] - 48s 26ms/step - loss: 0.0493 - accuracy: 0.9857 - val_loss: 0.0763 - val_accuracy: 0.9786\n",
            "Epoch 14/20\n",
            "1875/1875 [==============================] - 50s 27ms/step - loss: 0.0448 - accuracy: 0.9869 - val_loss: 0.0669 - val_accuracy: 0.9814\n",
            "Epoch 15/20\n",
            "1875/1875 [==============================] - 50s 27ms/step - loss: 0.0396 - accuracy: 0.9880 - val_loss: 0.0700 - val_accuracy: 0.9818\n",
            "Epoch 16/20\n",
            "1875/1875 [==============================] - 49s 26ms/step - loss: 0.0353 - accuracy: 0.9895 - val_loss: 0.0692 - val_accuracy: 0.9830\n",
            "Epoch 17/20\n",
            "1875/1875 [==============================] - 49s 26ms/step - loss: 0.0329 - accuracy: 0.9903 - val_loss: 0.0660 - val_accuracy: 0.9824\n",
            "Epoch 18/20\n",
            "1875/1875 [==============================] - 49s 26ms/step - loss: 0.0285 - accuracy: 0.9913 - val_loss: 0.0659 - val_accuracy: 0.9828\n",
            "Epoch 19/20\n",
            "1875/1875 [==============================] - 52s 28ms/step - loss: 0.0269 - accuracy: 0.9922 - val_loss: 0.0663 - val_accuracy: 0.9828\n",
            "Epoch 20/20\n",
            "1875/1875 [==============================] - 49s 26ms/step - loss: 0.0234 - accuracy: 0.9928 - val_loss: 0.0687 - val_accuracy: 0.9830\n"
          ]
        },
        {
          "output_type": "execute_result",
          "data": {
            "text/plain": [
              "<keras.src.callbacks.History at 0x7a69b0c478b0>"
            ]
          },
          "metadata": {},
          "execution_count": 54
        }
      ],
      "source": [
        "cnn_model.fit(\n",
        "    x_train,y_train,\n",
        "    batch_size=32,\n",
        "    epochs=20,\n",
        "    validation_data=(x_valid,y_valid),\n",
        "    shuffle=True,\n",
        "    use_multiprocessing=True\n",
        ")"
      ]
    },
    {
      "cell_type": "code",
      "execution_count": 55,
      "metadata": {
        "colab": {
          "base_uri": "https://localhost:8080/"
        },
        "id": "9XbGvkTF70CR",
        "outputId": "da6e3e06-612d-4f7d-cc9c-c0663159c21c"
      },
      "outputs": [
        {
          "output_type": "stream",
          "name": "stdout",
          "text": [
            "157/157 [==============================] - 1s 9ms/step - loss: 0.0674 - accuracy: 0.9832\n"
          ]
        },
        {
          "output_type": "execute_result",
          "data": {
            "text/plain": [
              "[0.06738270074129105, 0.9832000136375427]"
            ]
          },
          "metadata": {},
          "execution_count": 55
        }
      ],
      "source": [
        "cnn_model.evaluate(x_test,y_test)"
      ]
    },
    {
      "cell_type": "code",
      "execution_count": 56,
      "metadata": {
        "colab": {
          "base_uri": "https://localhost:8080/"
        },
        "id": "l7Goa9oN8Hm3",
        "outputId": "ecad21d9-5285-43ac-895e-79767573e3f8"
      },
      "outputs": [
        {
          "output_type": "stream",
          "name": "stdout",
          "text": [
            "157/157 [==============================] - 2s 14ms/step\n"
          ]
        }
      ],
      "source": [
        "pred=cnn_model.predict(x_test)"
      ]
    },
    {
      "cell_type": "code",
      "execution_count": 57,
      "metadata": {
        "id": "3bl5l9QX8XJt"
      },
      "outputs": [],
      "source": [
        "pred=np.argmax(pred,axis=1)"
      ]
    },
    {
      "cell_type": "code",
      "execution_count": 58,
      "metadata": {
        "id": "CwD2zoLy8dd_"
      },
      "outputs": [],
      "source": [
        "indices=y_test!=pred"
      ]
    },
    {
      "cell_type": "code",
      "execution_count": 59,
      "metadata": {
        "id": "R1wTxpYK8moa"
      },
      "outputs": [],
      "source": [
        "wrongs=x_test[indices]"
      ]
    },
    {
      "cell_type": "code",
      "source": [
        "wrongs.shape"
      ],
      "metadata": {
        "colab": {
          "base_uri": "https://localhost:8080/"
        },
        "id": "KMVNJlcMohlz",
        "outputId": "23bdaa0b-cbf6-49dc-ddeb-03081ea50c6e"
      },
      "execution_count": 60,
      "outputs": [
        {
          "output_type": "execute_result",
          "data": {
            "text/plain": [
              "(84, 28, 28)"
            ]
          },
          "metadata": {},
          "execution_count": 60
        }
      ]
    },
    {
      "cell_type": "code",
      "execution_count": 61,
      "metadata": {
        "colab": {
          "base_uri": "https://localhost:8080/",
          "height": 444
        },
        "id": "O3aYx6dc9nXY",
        "outputId": "3a032106-0a28-4c50-b62d-1914a2d7179f"
      },
      "outputs": [
        {
          "output_type": "display_data",
          "data": {
            "text/plain": [
              "<Figure size 500x500 with 9 Axes>"
            ],
            "image/png": "[encoded data removed]"
          },
          "metadata": {}
        }
      ],
      "source": [
        "indices=np.random.randint(0,wrongs.shape[0],size=9)\n",
        "fig,ax=plt.subplots(3,3,figsize=(5,5))\n",
        "for i in range(3):\n",
        "  for j in range(3):\n",
        "    index=indices[(i*3)+j]\n",
        "    ax[i][j].imshow(wrongs[index],cmap='gray')\n",
        "    ax[i][j].set_title(f'T={y[index]},P={y_p[index]}')\n",
        "    ax[i][j].axis('off')\n",
        "plt.show()"
      ]
    }
  ],
  "metadata": {
    "colab": {
      "provenance": []
    },
    "kernelspec": {
      "display_name": "Python 3",
      "name": "python3"
    },
    "language_info": {
      "name": "python"
    }
  },
  "nbformat": 4,
  "nbformat_minor": 0
}